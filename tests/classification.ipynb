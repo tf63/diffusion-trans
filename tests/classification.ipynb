{
 "cells": [
  {
   "cell_type": "code",
   "execution_count": 1,
   "metadata": {},
   "outputs": [],
   "source": [
    "import os\n",
    "import copy\n",
    "import numpy as np\n",
    "import torch\n",
    "import torch.nn as nn\n",
    "from tqdm import tqdm\n",
    "from torch import optim\n",
    "from utils import *\n",
    "from modules import UNet_conditional, EMA\n",
    "import logging"
   ]
  },
  {
   "cell_type": "code",
   "execution_count": 2,
   "metadata": {},
   "outputs": [],
   "source": [
    "import glob\n",
    "from PIL import Image\n",
    "\n",
    "def make_gif(path):\n",
    "    imgs_name = glob.glob(os.path.join(path, '???.png'))\n",
    "    imgs_name = sorted(imgs_name)\n",
    "    imgs = list()\n",
    "    for i in range(len(imgs_name)):\n",
    "        imgs.append(Image.open(imgs_name[i]))\n",
    "        imgs[i] = imgs[i].resize((imgs[i].width, imgs[i].height))\n",
    "        duration = [50] * len(imgs_name)\n",
    "        duration[-1] = 3000\n",
    "        imgs[0].save(os.path.join(os.path.dirname(path), f'{os.path.basename(path)}.gif'), save_all=True, loop=0, duration=duration,\n",
    "                        append_images=imgs[1:],)"
   ]
  },
  {
   "cell_type": "code",
   "execution_count": 3,
   "metadata": {},
   "outputs": [],
   "source": [
    "\n",
    "class Diffusion:\n",
    "    def __init__(self, noise_steps=500, beta_start=1e-4, beta_end=0.02, img_size=256, device=\"cuda\"):\n",
    "        self.noise_steps = noise_steps\n",
    "        self.beta_start = beta_start\n",
    "        self.beta_end = beta_end\n",
    "\n",
    "        self.beta = self.prepare_noise_schedule().to(device)\n",
    "        self.alpha = 1. - self.beta\n",
    "        self.alpha_hat = torch.cumprod(self.alpha, dim=0)\n",
    "\n",
    "        self.img_size = img_size\n",
    "        self.device = device\n",
    "\n",
    "    def prepare_noise_schedule(self):\n",
    "        return torch.linspace(self.beta_start, self.beta_end, self.noise_steps)\n",
    "\n",
    "    def noise_images(self, x, t):\n",
    "        print(self.alpha_hat.shape)\n",
    "        sqrt_alpha_hat = torch.sqrt(self.alpha_hat[t])[:, None, None, None]\n",
    "        sqrt_one_minus_alpha_hat = torch.sqrt(1 - self.alpha_hat[t])[:, None, None, None]\n",
    "        Ɛ = torch.randn_like(x)\n",
    "        return sqrt_alpha_hat * x + sqrt_one_minus_alpha_hat * Ɛ, Ɛ\n",
    "\n",
    "    def sample_timesteps(self, n):\n",
    "        return torch.randint(low=1, high=self.noise_steps, size=(n,))\n",
    "\n",
    "    def sample(self, model, n, labels, gif_name, gif_div=10, cfg_scale=3):\n",
    "        logging.info(f\"Sampling {n} new images....\")\n",
    "        os.makedirs(f'img/{gif_name}', exist_ok=True)\n",
    "        model.eval()\n",
    "        with torch.no_grad():\n",
    "            x = torch.randn((n, 3, self.img_size, self.img_size)).to(self.device)\n",
    "            for i in tqdm(reversed(range(1, self.noise_steps)), position=0):\n",
    "                t = (torch.ones(n) * i).long().to(self.device)\n",
    "                predicted_noise = model(x, t, labels)\n",
    "                if cfg_scale > 0:\n",
    "                    uncond_predicted_noise = model(x, t, None)\n",
    "                    predicted_noise = torch.lerp(uncond_predicted_noise, predicted_noise, cfg_scale)\n",
    "                alpha = self.alpha[t][:, None, None, None]\n",
    "                alpha_hat = self.alpha_hat[t][:, None, None, None]\n",
    "                beta = self.beta[t][:, None, None, None]\n",
    "                if i > 1:\n",
    "                    noise = torch.randn_like(x)\n",
    "                else:\n",
    "                    noise = torch.zeros_like(x)\n",
    "                x = 1 / torch.sqrt(alpha) * (x - ((1 - alpha) / (torch.sqrt(1 - alpha_hat))) * predicted_noise) + torch.sqrt(beta) * noise\n",
    "\n",
    "                img = (x.clamp(-1, 1) + 1) / 2\n",
    "                img = (img * 255).type(torch.uint8)\n",
    "                if i % gif_div == 0 or i == 1:\n",
    "                    save_images(img, f'img/{gif_name}/{(self.noise_steps - i):03d}.png')\n",
    "\n",
    "        model.train()\n",
    "        x = (x.clamp(-1, 1) + 1) / 2\n",
    "        x = (x * 255).type(torch.uint8)\n",
    "\n",
    "\n",
    "        return x"
   ]
  },
  {
   "cell_type": "code",
   "execution_count": 4,
   "metadata": {},
   "outputs": [
    {
     "data": {
      "text/plain": [
       "<All keys matched successfully>"
      ]
     },
     "execution_count": 4,
     "metadata": {},
     "output_type": "execute_result"
    }
   ],
   "source": [
    "device = 'cuda'\n",
    "model = UNet_conditional(num_classes=10).to(device)\n",
    "ckpt = torch.load('models/trained_cifar10/conditional_ema_ckpt.pt')\n",
    "model.load_state_dict(ckpt)"
   ]
  },
  {
   "cell_type": "code",
   "execution_count": 10,
   "metadata": {},
   "outputs": [
    {
     "name": "stderr",
     "output_type": "stream",
     "text": [
      "999it [01:38, 10.19it/s]\n"
     ]
    }
   ],
   "source": [
    "### save images\n",
    "n = 5\n",
    "cfg_scale = 3\n",
    "noise_steps = 1000\n",
    "diffusion = Diffusion(img_size=64, device=device, noise_steps=noise_steps)\n",
    "n_class = 1\n",
    "img_name = f'cifar10_class{n_class}_cfg{cfg_scale}_{n}sample_step{noise_steps}'\n",
    "y = torch.Tensor([n_class] * n).long().to(device)\n",
    "x = diffusion.sample(model, n, y, gif_name=img_name, gif_div=20, cfg_scale=cfg_scale)\n",
    "make_gif(path=f'img/{img_name}')\n",
    "save_images(x, f'img/{img_name}.png')\n"
   ]
  },
  {
   "cell_type": "code",
   "execution_count": 5,
   "metadata": {},
   "outputs": [],
   "source": [
    "imgs_path_class0 = glob.glob('data/cifar10_64/cifar10-64/test/class0/*')\n",
    "img = Image.open(imgs_path_class0[0])\n",
    "\n",
    "noise_steps = 1000\n",
    "# img.save('a.png')\n",
    "to_tensor = torchvision.transforms.ToTensor()\n",
    "img = to_tensor(img)\n",
    "img = (img[None] * 255).type(torch.uint8)\n",
    "\n",
    "# save_images(img[None], f'a_tensor.png')"
   ]
  },
  {
   "cell_type": "code",
   "execution_count": 11,
   "metadata": {},
   "outputs": [
    {
     "name": "stdout",
     "output_type": "stream",
     "text": [
      "torch.Size([50, 3, 64, 64])\n",
      "torch.Size([50])\n",
      "tensor([  20,   40,   60,   80,  100,  120,  140,  160,  180,  200,  220,  240,\n",
      "         260,  280,  300,  320,  340,  360,  380,  400,  420,  440,  460,  480,\n",
      "         500,  520,  540,  560,  580,  600,  620,  640,  660,  680,  700,  720,\n",
      "         740,  760,  780,  800,  820,  840,  860,  880,  900,  920,  940,  960,\n",
      "         980, 1000])\n"
     ]
    }
   ],
   "source": [
    "t = torch.arange(20, noise_steps + 1, 20)\n",
    "img = img[0].tile((50, 1, 1, 1))\n",
    "print(img.shape)\n",
    "print(t.shape)\n",
    "print(t)"
   ]
  },
  {
   "cell_type": "code",
   "execution_count": 61,
   "metadata": {},
   "outputs": [
    {
     "ename": "RuntimeError",
     "evalue": "CUDA error: device-side assert triggered\nCUDA kernel errors might be asynchronously reported at some other API call,so the stacktrace below might be incorrect.\nFor debugging consider passing CUDA_LAUNCH_BLOCKING=1.",
     "output_type": "error",
     "traceback": [
      "\u001b[0;31m---------------------------------------------------------------------------\u001b[0m",
      "\u001b[0;31mRuntimeError\u001b[0m                              Traceback (most recent call last)",
      "Cell \u001b[0;32mIn [61], line 4\u001b[0m\n\u001b[1;32m      2\u001b[0m img \u001b[39m=\u001b[39m img\u001b[39m.\u001b[39mto(device)\n\u001b[1;32m      3\u001b[0m \u001b[39m# t\u001b[39;00m\n\u001b[0;32m----> 4\u001b[0m diffusion \u001b[39m=\u001b[39m Diffusion(img_size\u001b[39m=\u001b[39;49m\u001b[39m64\u001b[39;49m, device\u001b[39m=\u001b[39;49mdevice, noise_steps\u001b[39m=\u001b[39;49mnoise_steps)\n\u001b[1;32m      5\u001b[0m \u001b[39m# x_t, noise = diffusion.noise_images(img, t)\u001b[39;00m\n\u001b[1;32m      6\u001b[0m \u001b[39m# t = diffusion.sample_timesteps(50)\u001b[39;00m\n\u001b[1;32m      7\u001b[0m \u001b[39mprint\u001b[39m(t)\n",
      "Cell \u001b[0;32mIn [3], line 7\u001b[0m, in \u001b[0;36mDiffusion.__init__\u001b[0;34m(self, noise_steps, beta_start, beta_end, img_size, device)\u001b[0m\n\u001b[1;32m      4\u001b[0m \u001b[39mself\u001b[39m\u001b[39m.\u001b[39mbeta_start \u001b[39m=\u001b[39m beta_start\n\u001b[1;32m      5\u001b[0m \u001b[39mself\u001b[39m\u001b[39m.\u001b[39mbeta_end \u001b[39m=\u001b[39m beta_end\n\u001b[0;32m----> 7\u001b[0m \u001b[39mself\u001b[39m\u001b[39m.\u001b[39mbeta \u001b[39m=\u001b[39m \u001b[39mself\u001b[39;49m\u001b[39m.\u001b[39;49mprepare_noise_schedule()\u001b[39m.\u001b[39;49mto(device)\n\u001b[1;32m      8\u001b[0m \u001b[39mself\u001b[39m\u001b[39m.\u001b[39malpha \u001b[39m=\u001b[39m \u001b[39m1.\u001b[39m \u001b[39m-\u001b[39m \u001b[39mself\u001b[39m\u001b[39m.\u001b[39mbeta\n\u001b[1;32m      9\u001b[0m \u001b[39mself\u001b[39m\u001b[39m.\u001b[39malpha_hat \u001b[39m=\u001b[39m torch\u001b[39m.\u001b[39mcumprod(\u001b[39mself\u001b[39m\u001b[39m.\u001b[39malpha, dim\u001b[39m=\u001b[39m\u001b[39m0\u001b[39m)\n",
      "\u001b[0;31mRuntimeError\u001b[0m: CUDA error: device-side assert triggered\nCUDA kernel errors might be asynchronously reported at some other API call,so the stacktrace below might be incorrect.\nFor debugging consider passing CUDA_LAUNCH_BLOCKING=1."
     ]
    }
   ],
   "source": [
    "noise_steps = 1000\n",
    "img = img.to(device)\n",
    "# t\n",
    "diffusion = Diffusion(img_size=64, device=device, noise_steps=noise_steps)\n",
    "# x_t, noise = diffusion.noise_images(img, t)\n",
    "# t = diffusion.sample_timesteps(50)\n",
    "print(t)\n"
   ]
  }
 ],
 "metadata": {
  "kernelspec": {
   "display_name": "venv",
   "language": "python",
   "name": "python3"
  },
  "language_info": {
   "codemirror_mode": {
    "name": "ipython",
    "version": 3
   },
   "file_extension": ".py",
   "mimetype": "text/x-python",
   "name": "python",
   "nbconvert_exporter": "python",
   "pygments_lexer": "ipython3",
   "version": "3.8.10 (default, Nov 14 2022, 12:59:47) \n[GCC 9.4.0]"
  },
  "orig_nbformat": 4,
  "vscode": {
   "interpreter": {
    "hash": "3319b6b996292085a4aa6d033969f9b05cea50d00fa765a467dc8e3f99d05594"
   }
  }
 },
 "nbformat": 4,
 "nbformat_minor": 2
}
