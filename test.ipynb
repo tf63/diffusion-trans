{
 "cells": [
  {
   "cell_type": "code",
   "execution_count": 3,
   "metadata": {},
   "outputs": [
    {
     "data": {
      "text/plain": [
       "-80"
      ]
     },
     "execution_count": 3,
     "metadata": {},
     "output_type": "execute_result"
    }
   ],
   "source": [
    "import glob\n",
    "import json\n",
    "\n",
    "root = '/home/tf63/project/nerf/ngp_lab/data/diffusion_fix/03001627'\n",
    "model_dirs = glob.glob(f'{root}/*')\n",
    "with open(f'{model_dirs[0]}/img/transforms.json') as f:\n",
    "    t = json.load(f)\n",
    "\n",
    "t['frames'][0]['elevation']\n"
   ]
  },
  {
   "cell_type": "code",
   "execution_count": 17,
   "metadata": {},
   "outputs": [
    {
     "data": {
      "text/plain": [
       "1"
      ]
     },
     "execution_count": 17,
     "metadata": {},
     "output_type": "execute_result"
    }
   ],
   "source": [
    "import random\n",
    "\n",
    "random.randint(0, 1)"
   ]
  },
  {
   "cell_type": "code",
   "execution_count": 5,
   "metadata": {},
   "outputs": [],
   "source": [
    "from utils import make_gif\n",
    "\n",
    "make_gif('', '/home/tfukuda/project/nerf/diffusion_lab/results/test/regenerate_mask_t-cfg5_0to1', 'b', wildcard='img90_run1_t???_list.png', duration=100)\n"
   ]
  },
  {
   "cell_type": "code",
   "execution_count": 2,
   "metadata": {},
   "outputs": [
    {
     "data": {
      "text/plain": [
       "tensor([0.6667, 0.3333])"
      ]
     },
     "execution_count": 2,
     "metadata": {},
     "output_type": "execute_result"
    }
   ],
   "source": [
    "import torch\n",
    "\n",
    "a = torch.tensor([2, 1])\n",
    "b = torch.tensor([3, 3])\n",
    "\n",
    "a / b"
   ]
  },
  {
   "cell_type": "code",
   "execution_count": 6,
   "metadata": {},
   "outputs": [
    {
     "data": {
      "text/plain": [
       "tensor([10, 11, 12, 13, 14,  5,  6,  7,  8,  9])"
      ]
     },
     "execution_count": 6,
     "metadata": {},
     "output_type": "execute_result"
    }
   ],
   "source": [
    "a = torch.arange(10)\n",
    "b = torch.arange(10, 20)\n",
    "a[a < 5] = b[a < 5]\n",
    "\n",
    "a"
   ]
  },
  {
   "cell_type": "code",
   "execution_count": 133,
   "metadata": {},
   "outputs": [
    {
     "name": "stdout",
     "output_type": "stream",
     "text": [
      "/home/tf63/project/nerf/ngp_lab/data/diffusion_fix/03001627/19d7db03d81663394733824eae5cd9ae/img/011.png\n",
      "/home/tf63/project/nerf/ngp_lab/data/diffusion_fix/03001627/19d7db03d81663394733824eae5cd9ae/img/014.png\n",
      "torch.Size([3, 64, 64])\n",
      "torch.Size([3, 64, 64])\n"
     ]
    },
    {
     "data": {
      "text/plain": [
       "<matplotlib.image.AxesImage at 0x7f9b067f7e20>"
      ]
     },
     "execution_count": 133,
     "metadata": {},
     "output_type": "execute_result"
    },
    {
     "data": {
      "image/png": "[encoded data removed]",
      "text/plain": [
       "<Figure size 640x480 with 1 Axes>"
      ]
     },
     "metadata": {},
     "output_type": "display_data"
    }
   ],
   "source": [
    "from torchvision.io import read_image\n",
    "from PIL import Image\n",
    "import matplotlib.pyplot as plt\n",
    "from torchvision.transforms.functional import to_tensor\n",
    "\n",
    "model_dir = model_dirs[7]\n",
    "G = [[7, 4], [4, 5], [5, 6], [6, 7],\n",
    "     [8, 9], [9, 10], [10, 11], [11, 8],\n",
    "     [15, 12], [12, 13], [13, 14], [14, 15],\n",
    "     [16, 17], [17, 18], [18, 19], [19, 16],\n",
    "     [17, 19], [16, 18], [17, 19], [18, 16],\n",
    "     [16, 17], [17, 18], [18, 19], [19, 16],\n",
    "     [23, 20], [20, 21], [21, 22], [22, 23],\n",
    "     [24, 25], [25, 26], [26, 27], [27, 24],\n",
    "     [31, 28], [28, 29], [29, 30], [30, 31],\n",
    "     ]\n",
    "\n",
    "# i_view = random.randint(0, 35)\n",
    "i_view = 11\n",
    "x1_path = f'{model_dir}/img/{i_view:03d}.png'\n",
    "x2_path = f'{model_dir}/img/{G[i_view][random.randint(0, 1)]:03d}.png'\n",
    "\n",
    "print(x1_path)\n",
    "print(x2_path)\n",
    "\n",
    "x1 = read_image(path=x1_path)[:3, :, :]\n",
    "x2 = read_image(path=x2_path)[:3, :, :]\n",
    "# x1 = to_tensor(Image.open(x1_path))\n",
    "# x2 = to_tensor(Image.open(x2_path))\n",
    "\n",
    "\n",
    "print(x1.shape)\n",
    "print(x2.shape)\n",
    "plt.imshow(x1.permute(1, 2, 0))"
   ]
  },
  {
   "cell_type": "code",
   "execution_count": 5,
   "metadata": {},
   "outputs": [
    {
     "data": {
      "text/plain": [
       "tensor([8, 2, 5, 4, 3, 0, 2])"
      ]
     },
     "execution_count": 5,
     "metadata": {},
     "output_type": "execute_result"
    }
   ],
   "source": [
    "import torch\n",
    "\n",
    "ele_dict = {-80: 0, -60: 1, -40: 2, -20: 3, 0: 4, 20: 5, 40: 6, 60: 7, 80: 8}\n",
    "x = torch.tensor([80, -40, 20, 0, -20, -80, -40])\n",
    "x.apply_(lambda x: ele_dict[x])\n",
    "\n",
    "x\n"
   ]
  },
  {
   "cell_type": "code",
   "execution_count": 9,
   "metadata": {},
   "outputs": [
    {
     "data": {
      "text/plain": [
       "tensor([[1, 2, 3],\n",
       "        [1, 2, 3],\n",
       "        [1, 2, 3]])"
      ]
     },
     "execution_count": 9,
     "metadata": {},
     "output_type": "execute_result"
    }
   ],
   "source": [
    "x = torch.tensor([[1, 2, 3]])\n",
    "\n",
    "torch.cat([x, x, x], dim=0)"
   ]
  },
  {
   "cell_type": "code",
   "execution_count": 13,
   "metadata": {},
   "outputs": [
    {
     "data": {
      "text/plain": [
       "torch.Size([27])"
      ]
     },
     "execution_count": 13,
     "metadata": {},
     "output_type": "execute_result"
    }
   ],
   "source": [
    "t = torch.zeros(3, 3, 3)\n",
    "torch.flatten(t).shape"
   ]
  },
  {
   "cell_type": "code",
   "execution_count": 11,
   "metadata": {},
   "outputs": [],
   "source": [
    "epsilon = torch.randn_like(x, dtype=torch.float)"
   ]
  },
  {
   "cell_type": "code",
   "execution_count": 18,
   "metadata": {},
   "outputs": [
    {
     "data": {
      "text/plain": [
       "torch.Size([5, 100])"
      ]
     },
     "execution_count": 18,
     "metadata": {},
     "output_type": "execute_result"
    }
   ],
   "source": [
    "a = torch.zeros((1, 100))\n",
    "\n",
    "a.repeat(5, 1).shape"
   ]
  },
  {
   "cell_type": "code",
   "execution_count": 21,
   "metadata": {},
   "outputs": [
    {
     "data": {
      "text/plain": [
       "tensor([0, 0, 0, 0, 0])"
      ]
     },
     "execution_count": 21,
     "metadata": {},
     "output_type": "execute_result"
    }
   ],
   "source": [
    "a = torch.tensor([0])\n",
    "\n",
    "a.repeat(5)"
   ]
  },
  {
   "cell_type": "code",
   "execution_count": 1,
   "metadata": {},
   "outputs": [],
   "source": [
    "from torchvision.io import read_image\n",
    "x1_path = '/home/tf63/project/pytorch-dev/tutorial/Diffusion-Models-pytorch_simple/cifar10_64/cifar10-64/train/class3/img9.png'\n",
    "# x1 = read_image(path=x1_path)[:3, :, :]\n"
   ]
  },
  {
   "cell_type": "code",
   "execution_count": 38,
   "metadata": {},
   "outputs": [
    {
     "name": "stdout",
     "output_type": "stream",
     "text": [
      "torch.Size([3, 64, 64])\n",
      "tensor([0.2157, 0.2471, 0.2353], dtype=torch.float64)\n",
      "tensor([0.2157, 0.2471, 0.2353, 1.0000])\n"
     ]
    },
    {
     "data": {
      "image/png": "[encoded data removed]",
      "text/plain": [
       "<Figure size 640x480 with 1 Axes>"
      ]
     },
     "metadata": {},
     "output_type": "display_data"
    }
   ],
   "source": [
    "from PIL import Image, ImageFilter\n",
    "import torchvision\n",
    "import matplotlib.pyplot as plt\n",
    "import cv2\n",
    "import numpy as np\n",
    "import torch\n",
    "\n",
    "x1_path = '/home/tfukuda/project/nerf/diffusion_lab/data/diffusion_fix/03001627/1a6f615e8b1b5ae4dbbc9440457e303e/img/028.png'\n",
    "im = Image.open(x1_path)\n",
    "# transforms = torchvision.transforms.Compose([\n",
    "#     torchvision.transforms.ToTensor(),\n",
    "#     torchvision.transforms.Normalize((0.5, 0.5, 0.5), (0.5, 0.5, 0.5))\n",
    "# ])\n",
    "\n",
    "# a = transforms(im)\n",
    "\n",
    "# plt.imshow(a.permute(1, 2, 0))\n",
    "\n",
    "im_cv2 = cv2.imread(x1_path, -1) / 255\n",
    "index = np.where(im_cv2[:, :, 3] == 0)\n",
    "# 白塗りする\n",
    "im_cv2[index] = [1., 1., 1., 1.]\n",
    "im_cv2 = im_cv2[:, :, [2, 1, 0]]\n",
    "# im_cv2 = im_cv2.transpose(2, 0, 1)\n",
    "\n",
    "transforms = torchvision.transforms.ToTensor()\n",
    "\n",
    "im_cv2 = transforms(im_cv2)\n",
    "# im_cv2_tensor = torch.tensor(im_cv2)\n",
    "print(im_cv2.shape)\n",
    "plt.imshow(im_cv2.permute(1, 2, 0))\n",
    "print(im_cv2[:, 30, 30])\n",
    "\n",
    "im = transforms(im)\n",
    "print(im[:, 30, 30])"
   ]
  },
  {
   "cell_type": "code",
   "execution_count": 2,
   "metadata": {},
   "outputs": [],
   "source": [
    "run_name = \"test_epoch_100_view_20_pil\"\n",
    "epochs = 100\n",
    "batch_size = 13\n",
    "n_sample = 10\n",
    "\n",
    "img_size = 64\n",
    "root_dir = '/home/tfukuda/project/nerf/diffusion_lab/data/diffusion_fix/03001627/'\n",
    "views = 20\n",
    "\n",
    "device = \"cuda\"\n",
    "lr = 3e-4\n"
   ]
  },
  {
   "cell_type": "code",
   "execution_count": 8,
   "metadata": {},
   "outputs": [],
   "source": [
    "from utils import ShapeNetDataset\n",
    "import torch\n",
    "from torch.utils.data import DataLoader\n",
    "\n",
    "import torchvision\n",
    "\n",
    "def get_data(root_dir, views, batch_size):\n",
    "    transforms = torchvision.transforms.Compose([\n",
    "        # torchvision.transforms.Resize(80),  # img_size + 1/4 *img_size\n",
    "        # torchvision.transforms.RandomResizedCrop(img_size, scale=(0.8, 1.0)),\n",
    "        torchvision.transforms.ToTensor(),\n",
    "        torchvision.transforms.Normalize((0.5, 0.5, 0.5), (0.5, 0.5, 0.5))\n",
    "    ])\n",
    "\n",
    "    dataset = ShapeNetDataset(root=root_dir, transforms=transforms, views=views)\n",
    "    dataloader = DataLoader(dataset, batch_size=batch_size, shuffle=True)\n",
    "    return dataloader\n"
   ]
  },
  {
   "cell_type": "code",
   "execution_count": 12,
   "metadata": {},
   "outputs": [
    {
     "data": {
      "text/plain": [
       "<All keys matched successfully>"
      ]
     },
     "execution_count": 12,
     "metadata": {},
     "output_type": "execute_result"
    }
   ],
   "source": [
    "from ddpm_conditional import Diffusion\n",
    "from modules import UNet_conditional\n",
    "import os\n",
    "import copy\n",
    "\n",
    "device = device\n",
    "diffusion = Diffusion(img_size=img_size, device=device)\n",
    "dataloader = get_data(root_dir=root_dir, views=views, batch_size=batch_size)\n",
    "model = UNet_conditional(img_size=img_size).to(device)\n",
    "\n",
    "epoch_ini = 95\n",
    "\n",
    "model_dict = torch.load(os.path.join(\"models\", run_name, f\"{epoch_ini}_ckpt.pt\"))\n",
    "model.load_state_dict(model_dict)\n",
    "\n",
    "ema_model_dict = torch.load(os.path.join(\"models\", run_name, f\"{epoch_ini}_ema_ckpt.pt\"))\n",
    "\n",
    "ema_model = copy.deepcopy(model).eval().requires_grad_(False)\n",
    "ema_model.load_state_dict(ema_model_dict)"
   ]
  },
  {
   "cell_type": "code",
   "execution_count": 13,
   "metadata": {},
   "outputs": [
    {
     "name": "stderr",
     "output_type": "stream",
     "text": [
      "12:18:16 - INFO: Sampling 10 new images....\n",
      "0it [00:00, ?it/s]/home/tfukuda/project/nerf/venv/lib/python3.8/site-packages/torch/nn/functional.py:718: UserWarning: Named tensors and all their associated APIs are an experimental feature and subject to change. Please do not use them for anything important until they are released as stable. (Triggered internally at  /pytorch/c10/core/TensorImpl.h:1156.)\n",
      "  return torch.max_pool2d(input, kernel_size, stride, padding, dilation, ceil_mode)\n",
      "999it [00:58, 16.93it/s]\n",
      "12:19:15 - INFO: Sampling 10 new images....\n",
      "999it [00:59, 16.91it/s]\n"
     ]
    }
   ],
   "source": [
    "from utils import save_images\n",
    "\n",
    "tmp = dataloader.__iter__()\n",
    "_, val_x2, val_x1_rot, val_x1_ele, val_x2_rot, val_x2_ele = tmp.next()\n",
    "val_x2 = val_x2[0].to(device)\n",
    "val_x1_rot = val_x1_rot[0].to(device)\n",
    "val_x1_ele = val_x1_ele[0].to(device)\n",
    "val_x2_rot = val_x2_rot[0].to(device)\n",
    "val_x2_ele = val_x2_ele[0].to(device)\n",
    "\n",
    "sampled_images = diffusion.sample(model, n=n_sample, x2=val_x2, x1_rot=val_x1_rot, x1_ele=val_x1_ele, x2_rot=val_x2_rot, x2_ele=val_x2_ele, cfg_scale=0)\n",
    "ema_sampled_images = diffusion.sample(ema_model, n=n_sample, x2=val_x2, x1_rot=val_x1_rot, x1_ele=val_x1_ele, x2_rot=val_x2_rot, x2_ele=val_x2_ele, cfg_scale=0)\n",
    "# plot_images(sampled_images)\n",
    "save_images(sampled_images, os.path.join(\"sampling\", run_name, f\"sample.jpg\"))\n",
    "save_images(ema_sampled_images, os.path.join(\"sampling\", run_name, f\"sample_ema.jpg\"))\n"
   ]
  },
  {
   "cell_type": "code",
   "execution_count": 41,
   "metadata": {},
   "outputs": [
    {
     "name": "stdout",
     "output_type": "stream",
     "text": [
      "cuda:0\n"
     ]
    }
   ],
   "source": [
    "a = torch.tensor([1, 2, 3], device='cuda:0')\n",
    "b = torch.tensor([1, 2], device=a.device)\n",
    "print(b.device)"
   ]
  },
  {
   "cell_type": "code",
   "execution_count": 50,
   "metadata": {},
   "outputs": [
    {
     "name": "stdout",
     "output_type": "stream",
     "text": [
      "6000\n"
     ]
    }
   ],
   "source": [
    "import glob\n",
    "root_dir = '/home/tfukuda/project/nerf/diffusion_lab/data/diffusion_fix/03001627'\n",
    "\n",
    "model_dirs = glob.glob(f'{root_dir}/*')\n",
    "print(len(model_dirs))\n",
    "for model_dir in model_dirs:\n",
    "    imgs = glob.glob(f'{model_dir}/img/*')\n",
    "    if len(imgs) != 37:\n",
    "        print(\"----------------------------------------------------------------\")\n",
    "        print(model_dir)\n",
    "    # print(model_dir)\n",
    "    # print(len(imgs))"
   ]
  }
 ],
 "metadata": {
  "kernelspec": {
   "display_name": "venv",
   "language": "python",
   "name": "python3"
  },
  "language_info": {
   "codemirror_mode": {
    "name": "ipython",
    "version": 3
   },
   "file_extension": ".py",
   "mimetype": "text/x-python",
   "name": "python",
   "nbconvert_exporter": "python",
   "pygments_lexer": "ipython3",
   "version": "3.8.10"
  },
  "orig_nbformat": 4,
  "vscode": {
   "interpreter": {
    "hash": "957a8eb5a020300167b99b1eb0b9a62bd240f6dd1b356af81e36ed693d6731e1"
   }
  }
 },
 "nbformat": 4,
 "nbformat_minor": 2
}
